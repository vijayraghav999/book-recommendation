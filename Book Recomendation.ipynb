{
 "cells": [
  {
   "cell_type": "markdown",
   "id": "a56e550b",
   "metadata": {},
   "source": [
    "# Import the dependencies"
   ]
  },
  {
   "cell_type": "code",
   "execution_count": 28,
   "id": "900eb96f",
   "metadata": {},
   "outputs": [],
   "source": [
    "import pandas as pd\n",
    "import numpy as np\n",
    "from sklearn.neighbors import NearestNeighbors\n",
    "from scipy.sparse import csr_matrix\n",
    "import warnings\n",
    "import difflib \n",
    "warnings.filterwarnings('ignore')\n"
   ]
  },
  {
   "cell_type": "markdown",
   "id": "f703781b",
   "metadata": {},
   "source": [
    "# Load the data and Preprocess it"
   ]
  },
  {
   "cell_type": "code",
   "execution_count": 2,
   "id": "f1d06ee8",
   "metadata": {},
   "outputs": [],
   "source": [
    "# load the data from a csv file\n",
    "book_data = pd.read_csv(r\"D:\\Downloads D\\book data set\\BX-Books.csv\",encoding = \"ISO-8859-1\",\n",
    "    sep=\";\",\n",
    "    header=0,\n",
    "    names=['isbn', 'title', 'author'], # selecting only relevent columns\n",
    "    usecols=['isbn', 'title', 'author'],\n",
    "    dtype={'isbn': 'str', 'title': 'str', 'author': 'str'})\n"
   ]
  },
  {
   "cell_type": "code",
   "execution_count": 3,
   "id": "411ea6e4",
   "metadata": {},
   "outputs": [
    {
     "data": {
      "text/html": [
       "<div>\n",
       "<style scoped>\n",
       "    .dataframe tbody tr th:only-of-type {\n",
       "        vertical-align: middle;\n",
       "    }\n",
       "\n",
       "    .dataframe tbody tr th {\n",
       "        vertical-align: top;\n",
       "    }\n",
       "\n",
       "    .dataframe thead th {\n",
       "        text-align: right;\n",
       "    }\n",
       "</style>\n",
       "<table border=\"1\" class=\"dataframe\">\n",
       "  <thead>\n",
       "    <tr style=\"text-align: right;\">\n",
       "      <th></th>\n",
       "      <th>isbn</th>\n",
       "      <th>title</th>\n",
       "      <th>author</th>\n",
       "    </tr>\n",
       "  </thead>\n",
       "  <tbody>\n",
       "    <tr>\n",
       "      <th>0</th>\n",
       "      <td>0195153448</td>\n",
       "      <td>Classical Mythology</td>\n",
       "      <td>Mark P. O. Morford</td>\n",
       "    </tr>\n",
       "    <tr>\n",
       "      <th>1</th>\n",
       "      <td>0002005018</td>\n",
       "      <td>Clara Callan</td>\n",
       "      <td>Richard Bruce Wright</td>\n",
       "    </tr>\n",
       "    <tr>\n",
       "      <th>2</th>\n",
       "      <td>0060973129</td>\n",
       "      <td>Decision in Normandy</td>\n",
       "      <td>Carlo D'Este</td>\n",
       "    </tr>\n",
       "    <tr>\n",
       "      <th>3</th>\n",
       "      <td>0374157065</td>\n",
       "      <td>Flu: The Story of the Great Influenza Pandemic...</td>\n",
       "      <td>Gina Bari Kolata</td>\n",
       "    </tr>\n",
       "    <tr>\n",
       "      <th>4</th>\n",
       "      <td>0393045218</td>\n",
       "      <td>The Mummies of Urumchi</td>\n",
       "      <td>E. J. W. Barber</td>\n",
       "    </tr>\n",
       "  </tbody>\n",
       "</table>\n",
       "</div>"
      ],
      "text/plain": [
       "         isbn                                              title  \\\n",
       "0  0195153448                                Classical Mythology   \n",
       "1  0002005018                                       Clara Callan   \n",
       "2  0060973129                               Decision in Normandy   \n",
       "3  0374157065  Flu: The Story of the Great Influenza Pandemic...   \n",
       "4  0393045218                             The Mummies of Urumchi   \n",
       "\n",
       "                 author  \n",
       "0    Mark P. O. Morford  \n",
       "1  Richard Bruce Wright  \n",
       "2          Carlo D'Este  \n",
       "3      Gina Bari Kolata  \n",
       "4       E. J. W. Barber  "
      ]
     },
     "execution_count": 3,
     "metadata": {},
     "output_type": "execute_result"
    }
   ],
   "source": [
    "book_data.head()"
   ]
  },
  {
   "cell_type": "code",
   "execution_count": 4,
   "id": "22de9b0b",
   "metadata": {},
   "outputs": [],
   "source": [
    "book_ratings =  pd.read_csv(\n",
    "    r\"D:\\Downloads D\\book data set\\BX-Book-Ratings.csv\",\n",
    "    encoding = \"ISO-8859-1\",\n",
    "    sep=\";\",\n",
    "    header=0,\n",
    "    names=['user', 'isbn', 'rating'],\n",
    "    usecols=['user', 'isbn', 'rating'],# selecting only relevant columns\n",
    "    dtype={'user': 'int32', 'isbn': 'str', 'rating': 'float32'})"
   ]
  },
  {
   "cell_type": "code",
   "execution_count": 5,
   "id": "7d865279",
   "metadata": {},
   "outputs": [
    {
     "data": {
      "text/html": [
       "<div>\n",
       "<style scoped>\n",
       "    .dataframe tbody tr th:only-of-type {\n",
       "        vertical-align: middle;\n",
       "    }\n",
       "\n",
       "    .dataframe tbody tr th {\n",
       "        vertical-align: top;\n",
       "    }\n",
       "\n",
       "    .dataframe thead th {\n",
       "        text-align: right;\n",
       "    }\n",
       "</style>\n",
       "<table border=\"1\" class=\"dataframe\">\n",
       "  <thead>\n",
       "    <tr style=\"text-align: right;\">\n",
       "      <th></th>\n",
       "      <th>user</th>\n",
       "      <th>isbn</th>\n",
       "      <th>rating</th>\n",
       "    </tr>\n",
       "  </thead>\n",
       "  <tbody>\n",
       "    <tr>\n",
       "      <th>0</th>\n",
       "      <td>276725</td>\n",
       "      <td>034545104X</td>\n",
       "      <td>0.0</td>\n",
       "    </tr>\n",
       "    <tr>\n",
       "      <th>1</th>\n",
       "      <td>276726</td>\n",
       "      <td>0155061224</td>\n",
       "      <td>5.0</td>\n",
       "    </tr>\n",
       "    <tr>\n",
       "      <th>2</th>\n",
       "      <td>276727</td>\n",
       "      <td>0446520802</td>\n",
       "      <td>0.0</td>\n",
       "    </tr>\n",
       "    <tr>\n",
       "      <th>3</th>\n",
       "      <td>276729</td>\n",
       "      <td>052165615X</td>\n",
       "      <td>3.0</td>\n",
       "    </tr>\n",
       "    <tr>\n",
       "      <th>4</th>\n",
       "      <td>276729</td>\n",
       "      <td>0521795028</td>\n",
       "      <td>6.0</td>\n",
       "    </tr>\n",
       "  </tbody>\n",
       "</table>\n",
       "</div>"
      ],
      "text/plain": [
       "     user        isbn  rating\n",
       "0  276725  034545104X     0.0\n",
       "1  276726  0155061224     5.0\n",
       "2  276727  0446520802     0.0\n",
       "3  276729  052165615X     3.0\n",
       "4  276729  0521795028     6.0"
      ]
     },
     "execution_count": 5,
     "metadata": {},
     "output_type": "execute_result"
    }
   ],
   "source": [
    "book_ratings.head()"
   ]
  },
  {
   "cell_type": "markdown",
   "id": "2cfd8291",
   "metadata": {},
   "source": [
    "#  Exploratory Data Analysis"
   ]
  },
  {
   "cell_type": "code",
   "execution_count": 6,
   "id": "eaf6327e",
   "metadata": {},
   "outputs": [
    {
     "data": {
      "text/plain": [
       "(271379, 3)"
      ]
     },
     "execution_count": 6,
     "metadata": {},
     "output_type": "execute_result"
    }
   ],
   "source": [
    "book_data.shape"
   ]
  },
  {
   "cell_type": "code",
   "execution_count": 7,
   "id": "17283bf3",
   "metadata": {},
   "outputs": [
    {
     "data": {
      "text/plain": [
       "242154"
      ]
     },
     "execution_count": 7,
     "metadata": {},
     "output_type": "execute_result"
    }
   ],
   "source": [
    "len(book_data['title'].unique())"
   ]
  },
  {
   "cell_type": "code",
   "execution_count": 8,
   "id": "918e7a19",
   "metadata": {},
   "outputs": [
    {
     "data": {
      "text/plain": [
       "105283"
      ]
     },
     "execution_count": 8,
     "metadata": {},
     "output_type": "execute_result"
    }
   ],
   "source": [
    "len(book_ratings['user'].unique())"
   ]
  },
  {
   "cell_type": "markdown",
   "id": "cb5059a6",
   "metadata": {},
   "source": [
    "**The problem with this data set is it has books that have received very few ratings. We cannot really recommend a book based on a few ratings. So what we will do is we will only consider books that have more than 50 ratings and also we only consider users who have rated at least 200 books.**"
   ]
  },
  {
   "cell_type": "code",
   "execution_count": 9,
   "id": "1fbf7933",
   "metadata": {},
   "outputs": [
    {
     "data": {
      "text/plain": [
       "11676     13602\n",
       "198711     7550\n",
       "153662     6109\n",
       "98391      5891\n",
       "35859      5850\n",
       "          ...  \n",
       "116180        1\n",
       "116166        1\n",
       "116154        1\n",
       "116137        1\n",
       "276723        1\n",
       "Name: user, Length: 105283, dtype: int64"
      ]
     },
     "execution_count": 9,
     "metadata": {},
     "output_type": "execute_result"
    }
   ],
   "source": [
    "book_ratings['user'].value_counts()"
   ]
  },
  {
   "cell_type": "markdown",
   "id": "4bba8c59",
   "metadata": {},
   "source": [
    "**I will extract users who have rated at least 200 books**"
   ]
  },
  {
   "cell_type": "code",
   "execution_count": 10,
   "id": "9b166f78",
   "metadata": {},
   "outputs": [],
   "source": [
    " # extracting the users\n",
    "user_ratings = book_ratings['user'].value_counts() > 200\n",
    "y = user_ratings[user_ratings].index\n",
    "useful_ratings = book_ratings[book_ratings['user'].isin(y)]"
   ]
  },
  {
   "cell_type": "code",
   "execution_count": 11,
   "id": "83e94bc2",
   "metadata": {},
   "outputs": [
    {
     "data": {
      "text/html": [
       "<div>\n",
       "<style scoped>\n",
       "    .dataframe tbody tr th:only-of-type {\n",
       "        vertical-align: middle;\n",
       "    }\n",
       "\n",
       "    .dataframe tbody tr th {\n",
       "        vertical-align: top;\n",
       "    }\n",
       "\n",
       "    .dataframe thead th {\n",
       "        text-align: right;\n",
       "    }\n",
       "</style>\n",
       "<table border=\"1\" class=\"dataframe\">\n",
       "  <thead>\n",
       "    <tr style=\"text-align: right;\">\n",
       "      <th></th>\n",
       "      <th>user</th>\n",
       "      <th>isbn</th>\n",
       "      <th>rating</th>\n",
       "      <th>title</th>\n",
       "      <th>author</th>\n",
       "    </tr>\n",
       "  </thead>\n",
       "  <tbody>\n",
       "    <tr>\n",
       "      <th>0</th>\n",
       "      <td>277427</td>\n",
       "      <td>002542730X</td>\n",
       "      <td>10.0</td>\n",
       "      <td>Politically Correct Bedtime Stories: Modern Ta...</td>\n",
       "      <td>James Finn Garner</td>\n",
       "    </tr>\n",
       "    <tr>\n",
       "      <th>1</th>\n",
       "      <td>3363</td>\n",
       "      <td>002542730X</td>\n",
       "      <td>0.0</td>\n",
       "      <td>Politically Correct Bedtime Stories: Modern Ta...</td>\n",
       "      <td>James Finn Garner</td>\n",
       "    </tr>\n",
       "    <tr>\n",
       "      <th>2</th>\n",
       "      <td>11676</td>\n",
       "      <td>002542730X</td>\n",
       "      <td>6.0</td>\n",
       "      <td>Politically Correct Bedtime Stories: Modern Ta...</td>\n",
       "      <td>James Finn Garner</td>\n",
       "    </tr>\n",
       "    <tr>\n",
       "      <th>3</th>\n",
       "      <td>12538</td>\n",
       "      <td>002542730X</td>\n",
       "      <td>10.0</td>\n",
       "      <td>Politically Correct Bedtime Stories: Modern Ta...</td>\n",
       "      <td>James Finn Garner</td>\n",
       "    </tr>\n",
       "    <tr>\n",
       "      <th>4</th>\n",
       "      <td>13552</td>\n",
       "      <td>002542730X</td>\n",
       "      <td>0.0</td>\n",
       "      <td>Politically Correct Bedtime Stories: Modern Ta...</td>\n",
       "      <td>James Finn Garner</td>\n",
       "    </tr>\n",
       "  </tbody>\n",
       "</table>\n",
       "</div>"
      ],
      "text/plain": [
       "     user        isbn  rating  \\\n",
       "0  277427  002542730X    10.0   \n",
       "1    3363  002542730X     0.0   \n",
       "2   11676  002542730X     6.0   \n",
       "3   12538  002542730X    10.0   \n",
       "4   13552  002542730X     0.0   \n",
       "\n",
       "                                               title             author  \n",
       "0  Politically Correct Bedtime Stories: Modern Ta...  James Finn Garner  \n",
       "1  Politically Correct Bedtime Stories: Modern Ta...  James Finn Garner  \n",
       "2  Politically Correct Bedtime Stories: Modern Ta...  James Finn Garner  \n",
       "3  Politically Correct Bedtime Stories: Modern Ta...  James Finn Garner  \n",
       "4  Politically Correct Bedtime Stories: Modern Ta...  James Finn Garner  "
      ]
     },
     "execution_count": 11,
     "metadata": {},
     "output_type": "execute_result"
    }
   ],
   "source": [
    "# merge these ratings with the books\n",
    "df = useful_ratings.merge(book_data,on='isbn')\n",
    "df.head()"
   ]
  },
  {
   "cell_type": "code",
   "execution_count": 12,
   "id": "aaf71a08",
   "metadata": {},
   "outputs": [
    {
     "data": {
      "text/html": [
       "<div>\n",
       "<style scoped>\n",
       "    .dataframe tbody tr th:only-of-type {\n",
       "        vertical-align: middle;\n",
       "    }\n",
       "\n",
       "    .dataframe tbody tr th {\n",
       "        vertical-align: top;\n",
       "    }\n",
       "\n",
       "    .dataframe thead th {\n",
       "        text-align: right;\n",
       "    }\n",
       "</style>\n",
       "<table border=\"1\" class=\"dataframe\">\n",
       "  <thead>\n",
       "    <tr style=\"text-align: right;\">\n",
       "      <th></th>\n",
       "      <th>title</th>\n",
       "      <th>rating</th>\n",
       "    </tr>\n",
       "  </thead>\n",
       "  <tbody>\n",
       "    <tr>\n",
       "      <th>0</th>\n",
       "      <td>A Light in the Storm: The Civil War Diary of ...</td>\n",
       "      <td>2</td>\n",
       "    </tr>\n",
       "    <tr>\n",
       "      <th>1</th>\n",
       "      <td>Always Have Popsicles</td>\n",
       "      <td>1</td>\n",
       "    </tr>\n",
       "    <tr>\n",
       "      <th>2</th>\n",
       "      <td>Apple Magic (The Collector's series)</td>\n",
       "      <td>1</td>\n",
       "    </tr>\n",
       "    <tr>\n",
       "      <th>3</th>\n",
       "      <td>Beyond IBM: Leadership Marketing and Finance ...</td>\n",
       "      <td>1</td>\n",
       "    </tr>\n",
       "    <tr>\n",
       "      <th>4</th>\n",
       "      <td>Clifford Visita El Hospital (Clifford El Gran...</td>\n",
       "      <td>1</td>\n",
       "    </tr>\n",
       "  </tbody>\n",
       "</table>\n",
       "</div>"
      ],
      "text/plain": [
       "                                               title  rating\n",
       "0   A Light in the Storm: The Civil War Diary of ...       2\n",
       "1                              Always Have Popsicles       1\n",
       "2               Apple Magic (The Collector's series)       1\n",
       "3   Beyond IBM: Leadership Marketing and Finance ...       1\n",
       "4   Clifford Visita El Hospital (Clifford El Gran...       1"
      ]
     },
     "execution_count": 12,
     "metadata": {},
     "output_type": "execute_result"
    }
   ],
   "source": [
    "# let's extract the books that has more than 50 ratings\n",
    "number_rating = df.groupby('title')['rating'].count().reset_index()\n",
    "number_rating.head()"
   ]
  },
  {
   "cell_type": "markdown",
   "id": "5637b0ea",
   "metadata": {},
   "source": [
    "**Here we have grouped the titles based on number of ratings received**"
   ]
  },
  {
   "cell_type": "code",
   "execution_count": 13,
   "id": "aae5562e",
   "metadata": {},
   "outputs": [
    {
     "data": {
      "text/html": [
       "<div>\n",
       "<style scoped>\n",
       "    .dataframe tbody tr th:only-of-type {\n",
       "        vertical-align: middle;\n",
       "    }\n",
       "\n",
       "    .dataframe tbody tr th {\n",
       "        vertical-align: top;\n",
       "    }\n",
       "\n",
       "    .dataframe thead th {\n",
       "        text-align: right;\n",
       "    }\n",
       "</style>\n",
       "<table border=\"1\" class=\"dataframe\">\n",
       "  <thead>\n",
       "    <tr style=\"text-align: right;\">\n",
       "      <th></th>\n",
       "      <th>title</th>\n",
       "      <th>number_of_ratings</th>\n",
       "    </tr>\n",
       "  </thead>\n",
       "  <tbody>\n",
       "    <tr>\n",
       "      <th>0</th>\n",
       "      <td>A Light in the Storm: The Civil War Diary of ...</td>\n",
       "      <td>2</td>\n",
       "    </tr>\n",
       "    <tr>\n",
       "      <th>1</th>\n",
       "      <td>Always Have Popsicles</td>\n",
       "      <td>1</td>\n",
       "    </tr>\n",
       "    <tr>\n",
       "      <th>2</th>\n",
       "      <td>Apple Magic (The Collector's series)</td>\n",
       "      <td>1</td>\n",
       "    </tr>\n",
       "    <tr>\n",
       "      <th>3</th>\n",
       "      <td>Beyond IBM: Leadership Marketing and Finance ...</td>\n",
       "      <td>1</td>\n",
       "    </tr>\n",
       "    <tr>\n",
       "      <th>4</th>\n",
       "      <td>Clifford Visita El Hospital (Clifford El Gran...</td>\n",
       "      <td>1</td>\n",
       "    </tr>\n",
       "  </tbody>\n",
       "</table>\n",
       "</div>"
      ],
      "text/plain": [
       "                                               title  number_of_ratings\n",
       "0   A Light in the Storm: The Civil War Diary of ...                  2\n",
       "1                              Always Have Popsicles                  1\n",
       "2               Apple Magic (The Collector's series)                  1\n",
       "3   Beyond IBM: Leadership Marketing and Finance ...                  1\n",
       "4   Clifford Visita El Hospital (Clifford El Gran...                  1"
      ]
     },
     "execution_count": 13,
     "metadata": {},
     "output_type": "execute_result"
    }
   ],
   "source": [
    "number_rating.rename(columns= {'rating':'number_of_ratings'}, inplace=True)\n",
    "number_rating.head()"
   ]
  },
  {
   "cell_type": "code",
   "execution_count": 14,
   "id": "6b379fb1",
   "metadata": {},
   "outputs": [
    {
     "data": {
      "text/html": [
       "<div>\n",
       "<style scoped>\n",
       "    .dataframe tbody tr th:only-of-type {\n",
       "        vertical-align: middle;\n",
       "    }\n",
       "\n",
       "    .dataframe tbody tr th {\n",
       "        vertical-align: top;\n",
       "    }\n",
       "\n",
       "    .dataframe thead th {\n",
       "        text-align: right;\n",
       "    }\n",
       "</style>\n",
       "<table border=\"1\" class=\"dataframe\">\n",
       "  <thead>\n",
       "    <tr style=\"text-align: right;\">\n",
       "      <th></th>\n",
       "      <th>user</th>\n",
       "      <th>isbn</th>\n",
       "      <th>rating</th>\n",
       "      <th>title</th>\n",
       "      <th>author</th>\n",
       "      <th>number_of_ratings</th>\n",
       "    </tr>\n",
       "  </thead>\n",
       "  <tbody>\n",
       "    <tr>\n",
       "      <th>0</th>\n",
       "      <td>277427</td>\n",
       "      <td>002542730X</td>\n",
       "      <td>10.0</td>\n",
       "      <td>Politically Correct Bedtime Stories: Modern Ta...</td>\n",
       "      <td>James Finn Garner</td>\n",
       "      <td>82</td>\n",
       "    </tr>\n",
       "    <tr>\n",
       "      <th>1</th>\n",
       "      <td>3363</td>\n",
       "      <td>002542730X</td>\n",
       "      <td>0.0</td>\n",
       "      <td>Politically Correct Bedtime Stories: Modern Ta...</td>\n",
       "      <td>James Finn Garner</td>\n",
       "      <td>82</td>\n",
       "    </tr>\n",
       "    <tr>\n",
       "      <th>2</th>\n",
       "      <td>11676</td>\n",
       "      <td>002542730X</td>\n",
       "      <td>6.0</td>\n",
       "      <td>Politically Correct Bedtime Stories: Modern Ta...</td>\n",
       "      <td>James Finn Garner</td>\n",
       "      <td>82</td>\n",
       "    </tr>\n",
       "    <tr>\n",
       "      <th>3</th>\n",
       "      <td>12538</td>\n",
       "      <td>002542730X</td>\n",
       "      <td>10.0</td>\n",
       "      <td>Politically Correct Bedtime Stories: Modern Ta...</td>\n",
       "      <td>James Finn Garner</td>\n",
       "      <td>82</td>\n",
       "    </tr>\n",
       "    <tr>\n",
       "      <th>4</th>\n",
       "      <td>13552</td>\n",
       "      <td>002542730X</td>\n",
       "      <td>0.0</td>\n",
       "      <td>Politically Correct Bedtime Stories: Modern Ta...</td>\n",
       "      <td>James Finn Garner</td>\n",
       "      <td>82</td>\n",
       "    </tr>\n",
       "  </tbody>\n",
       "</table>\n",
       "</div>"
      ],
      "text/plain": [
       "     user        isbn  rating  \\\n",
       "0  277427  002542730X    10.0   \n",
       "1    3363  002542730X     0.0   \n",
       "2   11676  002542730X     6.0   \n",
       "3   12538  002542730X    10.0   \n",
       "4   13552  002542730X     0.0   \n",
       "\n",
       "                                               title             author  \\\n",
       "0  Politically Correct Bedtime Stories: Modern Ta...  James Finn Garner   \n",
       "1  Politically Correct Bedtime Stories: Modern Ta...  James Finn Garner   \n",
       "2  Politically Correct Bedtime Stories: Modern Ta...  James Finn Garner   \n",
       "3  Politically Correct Bedtime Stories: Modern Ta...  James Finn Garner   \n",
       "4  Politically Correct Bedtime Stories: Modern Ta...  James Finn Garner   \n",
       "\n",
       "   number_of_ratings  \n",
       "0                 82  \n",
       "1                 82  \n",
       "2                 82  \n",
       "3                 82  \n",
       "4                 82  "
      ]
     },
     "execution_count": 14,
     "metadata": {},
     "output_type": "execute_result"
    }
   ],
   "source": [
    "# Now merge this dataframe with your originalone\n",
    "df1 = df.merge(number_rating,on='title')\n",
    "df1.head()"
   ]
  },
  {
   "cell_type": "code",
   "execution_count": 156,
   "id": "ba6c9a27",
   "metadata": {},
   "outputs": [
    {
     "data": {
      "text/html": [
       "<div>\n",
       "<style scoped>\n",
       "    .dataframe tbody tr th:only-of-type {\n",
       "        vertical-align: middle;\n",
       "    }\n",
       "\n",
       "    .dataframe tbody tr th {\n",
       "        vertical-align: top;\n",
       "    }\n",
       "\n",
       "    .dataframe thead th {\n",
       "        text-align: right;\n",
       "    }\n",
       "</style>\n",
       "<table border=\"1\" class=\"dataframe\">\n",
       "  <thead>\n",
       "    <tr style=\"text-align: right;\">\n",
       "      <th></th>\n",
       "      <th>user</th>\n",
       "      <th>isbn</th>\n",
       "      <th>rating</th>\n",
       "      <th>title</th>\n",
       "      <th>author</th>\n",
       "      <th>number_of_ratings</th>\n",
       "    </tr>\n",
       "  </thead>\n",
       "  <tbody>\n",
       "    <tr>\n",
       "      <th>0</th>\n",
       "      <td>277427</td>\n",
       "      <td>002542730X</td>\n",
       "      <td>10.0</td>\n",
       "      <td>Politically Correct Bedtime Stories: Modern Ta...</td>\n",
       "      <td>James Finn Garner</td>\n",
       "      <td>82</td>\n",
       "    </tr>\n",
       "    <tr>\n",
       "      <th>1</th>\n",
       "      <td>3363</td>\n",
       "      <td>002542730X</td>\n",
       "      <td>0.0</td>\n",
       "      <td>Politically Correct Bedtime Stories: Modern Ta...</td>\n",
       "      <td>James Finn Garner</td>\n",
       "      <td>82</td>\n",
       "    </tr>\n",
       "    <tr>\n",
       "      <th>2</th>\n",
       "      <td>11676</td>\n",
       "      <td>002542730X</td>\n",
       "      <td>6.0</td>\n",
       "      <td>Politically Correct Bedtime Stories: Modern Ta...</td>\n",
       "      <td>James Finn Garner</td>\n",
       "      <td>82</td>\n",
       "    </tr>\n",
       "    <tr>\n",
       "      <th>3</th>\n",
       "      <td>12538</td>\n",
       "      <td>002542730X</td>\n",
       "      <td>10.0</td>\n",
       "      <td>Politically Correct Bedtime Stories: Modern Ta...</td>\n",
       "      <td>James Finn Garner</td>\n",
       "      <td>82</td>\n",
       "    </tr>\n",
       "    <tr>\n",
       "      <th>4</th>\n",
       "      <td>13552</td>\n",
       "      <td>002542730X</td>\n",
       "      <td>0.0</td>\n",
       "      <td>Politically Correct Bedtime Stories: Modern Ta...</td>\n",
       "      <td>James Finn Garner</td>\n",
       "      <td>82</td>\n",
       "    </tr>\n",
       "  </tbody>\n",
       "</table>\n",
       "</div>"
      ],
      "text/plain": [
       "     user        isbn  rating  \\\n",
       "0  277427  002542730X    10.0   \n",
       "1    3363  002542730X     0.0   \n",
       "2   11676  002542730X     6.0   \n",
       "3   12538  002542730X    10.0   \n",
       "4   13552  002542730X     0.0   \n",
       "\n",
       "                                               title             author  \\\n",
       "0  Politically Correct Bedtime Stories: Modern Ta...  James Finn Garner   \n",
       "1  Politically Correct Bedtime Stories: Modern Ta...  James Finn Garner   \n",
       "2  Politically Correct Bedtime Stories: Modern Ta...  James Finn Garner   \n",
       "3  Politically Correct Bedtime Stories: Modern Ta...  James Finn Garner   \n",
       "4  Politically Correct Bedtime Stories: Modern Ta...  James Finn Garner   \n",
       "\n",
       "   number_of_ratings  \n",
       "0                 82  \n",
       "1                 82  \n",
       "2                 82  \n",
       "3                 82  \n",
       "4                 82  "
      ]
     },
     "execution_count": 156,
     "metadata": {},
     "output_type": "execute_result"
    }
   ],
   "source": [
    "df2 = df1[df1['number_of_ratings']>=30]\n",
    "df2.head()"
   ]
  },
  {
   "cell_type": "code",
   "execution_count": 157,
   "id": "9da9044e",
   "metadata": {},
   "outputs": [
    {
     "data": {
      "text/plain": [
       "(98978, 6)"
      ]
     },
     "execution_count": 157,
     "metadata": {},
     "output_type": "execute_result"
    }
   ],
   "source": [
    "df2.shape"
   ]
  },
  {
   "cell_type": "markdown",
   "id": "701b9a10",
   "metadata": {},
   "source": [
    "**Now our data has only 61853 books after doing some data cleaning. Next we would want to delete any duplicate values because it will create a problem if a user reviews same book more than once.** "
   ]
  },
  {
   "cell_type": "code",
   "execution_count": 158,
   "id": "32dcdede",
   "metadata": {},
   "outputs": [
    {
     "data": {
      "text/plain": [
       "0"
      ]
     },
     "execution_count": 158,
     "metadata": {},
     "output_type": "execute_result"
    }
   ],
   "source": [
    "df2.drop_duplicates(['user','title'],inplace=True)\n",
    "df2.duplicated().sum()"
   ]
  },
  {
   "cell_type": "code",
   "execution_count": 159,
   "id": "7ea69023",
   "metadata": {},
   "outputs": [
    {
     "data": {
      "text/plain": [
       "user                 0\n",
       "isbn                 0\n",
       "rating               0\n",
       "title                0\n",
       "author               0\n",
       "number_of_ratings    0\n",
       "dtype: int64"
      ]
     },
     "execution_count": 159,
     "metadata": {},
     "output_type": "execute_result"
    }
   ],
   "source": [
    "df2.isnull().sum()"
   ]
  },
  {
   "cell_type": "markdown",
   "id": "8fc844bb",
   "metadata": {},
   "source": [
    "# Build the model"
   ]
  },
  {
   "cell_type": "code",
   "execution_count": 160,
   "id": "3b0ba537",
   "metadata": {},
   "outputs": [],
   "source": [
    "# create a pivot table\n",
    "pivot_table = df2.pivot_table(columns='user',index='title',values='rating')"
   ]
  },
  {
   "cell_type": "code",
   "execution_count": 161,
   "id": "9f4465e7",
   "metadata": {},
   "outputs": [
    {
     "data": {
      "text/html": [
       "<div>\n",
       "<style scoped>\n",
       "    .dataframe tbody tr th:only-of-type {\n",
       "        vertical-align: middle;\n",
       "    }\n",
       "\n",
       "    .dataframe tbody tr th {\n",
       "        vertical-align: top;\n",
       "    }\n",
       "\n",
       "    .dataframe thead th {\n",
       "        text-align: right;\n",
       "    }\n",
       "</style>\n",
       "<table border=\"1\" class=\"dataframe\">\n",
       "  <thead>\n",
       "    <tr style=\"text-align: right;\">\n",
       "      <th>user</th>\n",
       "      <th>254</th>\n",
       "      <th>2276</th>\n",
       "      <th>2766</th>\n",
       "      <th>2977</th>\n",
       "      <th>3363</th>\n",
       "      <th>3757</th>\n",
       "      <th>4017</th>\n",
       "      <th>4385</th>\n",
       "      <th>6242</th>\n",
       "      <th>6251</th>\n",
       "      <th>...</th>\n",
       "      <th>274004</th>\n",
       "      <th>274061</th>\n",
       "      <th>274301</th>\n",
       "      <th>274308</th>\n",
       "      <th>274808</th>\n",
       "      <th>275970</th>\n",
       "      <th>277427</th>\n",
       "      <th>277478</th>\n",
       "      <th>277639</th>\n",
       "      <th>278418</th>\n",
       "    </tr>\n",
       "    <tr>\n",
       "      <th>title</th>\n",
       "      <th></th>\n",
       "      <th></th>\n",
       "      <th></th>\n",
       "      <th></th>\n",
       "      <th></th>\n",
       "      <th></th>\n",
       "      <th></th>\n",
       "      <th></th>\n",
       "      <th></th>\n",
       "      <th></th>\n",
       "      <th></th>\n",
       "      <th></th>\n",
       "      <th></th>\n",
       "      <th></th>\n",
       "      <th></th>\n",
       "      <th></th>\n",
       "      <th></th>\n",
       "      <th></th>\n",
       "      <th></th>\n",
       "      <th></th>\n",
       "      <th></th>\n",
       "    </tr>\n",
       "  </thead>\n",
       "  <tbody>\n",
       "    <tr>\n",
       "      <th>10 Lb. Penalty</th>\n",
       "      <td>NaN</td>\n",
       "      <td>NaN</td>\n",
       "      <td>NaN</td>\n",
       "      <td>NaN</td>\n",
       "      <td>NaN</td>\n",
       "      <td>NaN</td>\n",
       "      <td>NaN</td>\n",
       "      <td>NaN</td>\n",
       "      <td>NaN</td>\n",
       "      <td>NaN</td>\n",
       "      <td>...</td>\n",
       "      <td>NaN</td>\n",
       "      <td>NaN</td>\n",
       "      <td>NaN</td>\n",
       "      <td>0.0</td>\n",
       "      <td>NaN</td>\n",
       "      <td>NaN</td>\n",
       "      <td>NaN</td>\n",
       "      <td>NaN</td>\n",
       "      <td>NaN</td>\n",
       "      <td>NaN</td>\n",
       "    </tr>\n",
       "    <tr>\n",
       "      <th>16 Lighthouse Road</th>\n",
       "      <td>NaN</td>\n",
       "      <td>NaN</td>\n",
       "      <td>NaN</td>\n",
       "      <td>NaN</td>\n",
       "      <td>NaN</td>\n",
       "      <td>NaN</td>\n",
       "      <td>NaN</td>\n",
       "      <td>NaN</td>\n",
       "      <td>NaN</td>\n",
       "      <td>NaN</td>\n",
       "      <td>...</td>\n",
       "      <td>NaN</td>\n",
       "      <td>NaN</td>\n",
       "      <td>NaN</td>\n",
       "      <td>NaN</td>\n",
       "      <td>NaN</td>\n",
       "      <td>NaN</td>\n",
       "      <td>NaN</td>\n",
       "      <td>NaN</td>\n",
       "      <td>NaN</td>\n",
       "      <td>NaN</td>\n",
       "    </tr>\n",
       "    <tr>\n",
       "      <th>1984</th>\n",
       "      <td>9.0</td>\n",
       "      <td>NaN</td>\n",
       "      <td>NaN</td>\n",
       "      <td>NaN</td>\n",
       "      <td>NaN</td>\n",
       "      <td>NaN</td>\n",
       "      <td>NaN</td>\n",
       "      <td>NaN</td>\n",
       "      <td>NaN</td>\n",
       "      <td>NaN</td>\n",
       "      <td>...</td>\n",
       "      <td>NaN</td>\n",
       "      <td>NaN</td>\n",
       "      <td>NaN</td>\n",
       "      <td>NaN</td>\n",
       "      <td>NaN</td>\n",
       "      <td>0.0</td>\n",
       "      <td>NaN</td>\n",
       "      <td>NaN</td>\n",
       "      <td>NaN</td>\n",
       "      <td>NaN</td>\n",
       "    </tr>\n",
       "    <tr>\n",
       "      <th>1st to Die: A Novel</th>\n",
       "      <td>NaN</td>\n",
       "      <td>NaN</td>\n",
       "      <td>NaN</td>\n",
       "      <td>NaN</td>\n",
       "      <td>NaN</td>\n",
       "      <td>NaN</td>\n",
       "      <td>NaN</td>\n",
       "      <td>NaN</td>\n",
       "      <td>NaN</td>\n",
       "      <td>NaN</td>\n",
       "      <td>...</td>\n",
       "      <td>NaN</td>\n",
       "      <td>NaN</td>\n",
       "      <td>NaN</td>\n",
       "      <td>NaN</td>\n",
       "      <td>NaN</td>\n",
       "      <td>NaN</td>\n",
       "      <td>NaN</td>\n",
       "      <td>NaN</td>\n",
       "      <td>NaN</td>\n",
       "      <td>NaN</td>\n",
       "    </tr>\n",
       "    <tr>\n",
       "      <th>2010: Odyssey Two</th>\n",
       "      <td>NaN</td>\n",
       "      <td>0.0</td>\n",
       "      <td>NaN</td>\n",
       "      <td>NaN</td>\n",
       "      <td>NaN</td>\n",
       "      <td>NaN</td>\n",
       "      <td>NaN</td>\n",
       "      <td>NaN</td>\n",
       "      <td>NaN</td>\n",
       "      <td>NaN</td>\n",
       "      <td>...</td>\n",
       "      <td>NaN</td>\n",
       "      <td>NaN</td>\n",
       "      <td>NaN</td>\n",
       "      <td>NaN</td>\n",
       "      <td>NaN</td>\n",
       "      <td>NaN</td>\n",
       "      <td>NaN</td>\n",
       "      <td>NaN</td>\n",
       "      <td>NaN</td>\n",
       "      <td>NaN</td>\n",
       "    </tr>\n",
       "  </tbody>\n",
       "</table>\n",
       "<p>5 rows × 893 columns</p>\n",
       "</div>"
      ],
      "text/plain": [
       "user                 254     2276    2766    2977    3363    3757    4017    \\\n",
       "title                                                                         \n",
       "10 Lb. Penalty          NaN     NaN     NaN     NaN     NaN     NaN     NaN   \n",
       "16 Lighthouse Road      NaN     NaN     NaN     NaN     NaN     NaN     NaN   \n",
       "1984                    9.0     NaN     NaN     NaN     NaN     NaN     NaN   \n",
       "1st to Die: A Novel     NaN     NaN     NaN     NaN     NaN     NaN     NaN   \n",
       "2010: Odyssey Two       NaN     0.0     NaN     NaN     NaN     NaN     NaN   \n",
       "\n",
       "user                 4385    6242    6251    ...  274004  274061  274301  \\\n",
       "title                                        ...                           \n",
       "10 Lb. Penalty          NaN     NaN     NaN  ...     NaN     NaN     NaN   \n",
       "16 Lighthouse Road      NaN     NaN     NaN  ...     NaN     NaN     NaN   \n",
       "1984                    NaN     NaN     NaN  ...     NaN     NaN     NaN   \n",
       "1st to Die: A Novel     NaN     NaN     NaN  ...     NaN     NaN     NaN   \n",
       "2010: Odyssey Two       NaN     NaN     NaN  ...     NaN     NaN     NaN   \n",
       "\n",
       "user                 274308  274808  275970  277427  277478  277639  278418  \n",
       "title                                                                        \n",
       "10 Lb. Penalty          0.0     NaN     NaN     NaN     NaN     NaN     NaN  \n",
       "16 Lighthouse Road      NaN     NaN     NaN     NaN     NaN     NaN     NaN  \n",
       "1984                    NaN     NaN     0.0     NaN     NaN     NaN     NaN  \n",
       "1st to Die: A Novel     NaN     NaN     NaN     NaN     NaN     NaN     NaN  \n",
       "2010: Odyssey Two       NaN     NaN     NaN     NaN     NaN     NaN     NaN  \n",
       "\n",
       "[5 rows x 893 columns]"
      ]
     },
     "execution_count": 161,
     "metadata": {},
     "output_type": "execute_result"
    }
   ],
   "source": [
    "pivot_table.head()"
   ]
  },
  {
   "cell_type": "markdown",
   "id": "41ae02b0",
   "metadata": {},
   "source": [
    "**As you can see they are a lot of NAN values in our pivot table which basically means a particular user never reviewed a particular book corresponding to its null value. So replace those values with zero**"
   ]
  },
  {
   "cell_type": "code",
   "execution_count": 162,
   "id": "03f00469",
   "metadata": {},
   "outputs": [],
   "source": [
    "pivot_table.fillna(0,inplace=True)"
   ]
  },
  {
   "cell_type": "code",
   "execution_count": 163,
   "id": "1db8f243",
   "metadata": {},
   "outputs": [
    {
     "data": {
      "text/plain": [
       "(1733, 893)"
      ]
     },
     "execution_count": 163,
     "metadata": {},
     "output_type": "execute_result"
    }
   ],
   "source": [
    "pivot_table.head()\n",
    "pivot_table.shape"
   ]
  },
  {
   "cell_type": "markdown",
   "id": "1fefc3e6",
   "metadata": {},
   "source": [
    "**When we build our model, due to these zeros in our pivot table computational time may increase. So what will do is we will convert our pivot table to sparse matrix**"
   ]
  },
  {
   "cell_type": "code",
   "execution_count": 164,
   "id": "cbf6b990",
   "metadata": {},
   "outputs": [],
   "source": [
    "sparse_matrix = csr_matrix(pivot_table)"
   ]
  },
  {
   "cell_type": "code",
   "execution_count": 169,
   "id": "b176418b",
   "metadata": {},
   "outputs": [],
   "source": [
    "# feed this matrix to our model\n",
    "model = NearestNeighbors(algorithm='brute')"
   ]
  },
  {
   "cell_type": "code",
   "execution_count": 170,
   "id": "58622eef",
   "metadata": {},
   "outputs": [
    {
     "data": {
      "text/plain": [
       "NearestNeighbors(algorithm='brute')"
      ]
     },
     "execution_count": 170,
     "metadata": {},
     "output_type": "execute_result"
    }
   ],
   "source": [
    "model.fit(sparse_matrix)"
   ]
  },
  {
   "cell_type": "markdown",
   "id": "74aa7964",
   "metadata": {},
   "source": [
    "**Now our model is trained. We can get recommendations from our model. By the way I am keeping default parameters for this model.**"
   ]
  },
  {
   "cell_type": "code",
   "execution_count": 172,
   "id": "c00c8074",
   "metadata": {},
   "outputs": [],
   "source": [
    "def get_recommendations(book_name):\n",
    "    try:\n",
    "        close_match = difflib.get_close_matches(book_name,pivot_table.index.to_list())[0]\n",
    "    except IndexError:\n",
    "        return 'Book is not available'\n",
    "    idx = np.where(pivot_table.index==close_match)[0][0]\n",
    "    ls = [close_match]\n",
    "    distances,neighbours = model.kneighbors(pivot_table.iloc[idx,:].values.reshape(1,-1),n_neighbors=6)\n",
    "    neighbours = list(neighbours[0])\n",
    "    for i in range(len(neighbours)):\n",
    "        if i != 0:\n",
    "            ls.append([pivot_table.index[neighbours[i]],distances[0][i]])\n",
    "    return ls"
   ]
  },
  {
   "cell_type": "code",
   "execution_count": 173,
   "id": "5858e40e",
   "metadata": {
    "scrolled": true
   },
   "outputs": [
    {
     "name": "stdout",
     "output_type": "stream",
     "text": [
      "Enter your favourite book name: The Queen of the Damned (Vampire Chronicles (Paperback))\n",
      "\n",
      "['The Queen of the Damned (Vampire Chronicles (Paperback))', ['The Apocalypse Watch', 34.42383], [\"Night Moves (Tom Clancy's Net Force, No. 3)\", 34.42383], ['WEB OF DREAMS (Casteel Saga (Paperback))', 34.770676], [\"Ruthless.Com (Tom Clancy's Power Plays (Paperback))\", 34.785053], ['Escape the Night', 34.842503]]\n"
     ]
    }
   ],
   "source": [
    "book_name = input('Enter your favourite book name: ')\n",
    "print()\n",
    "print(get_recommendations(book_name))"
   ]
  }
 ],
 "metadata": {
  "kernelspec": {
   "display_name": "Python 3 (ipykernel)",
   "language": "python",
   "name": "python3"
  },
  "language_info": {
   "codemirror_mode": {
    "name": "ipython",
    "version": 3
   },
   "file_extension": ".py",
   "mimetype": "text/x-python",
   "name": "python",
   "nbconvert_exporter": "python",
   "pygments_lexer": "ipython3",
   "version": "3.9.12"
  }
 },
 "nbformat": 4,
 "nbformat_minor": 5
}
